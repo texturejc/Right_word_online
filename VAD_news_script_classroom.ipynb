{
 "cells": [
  {
   "cell_type": "markdown",
   "id": "c7c098e6-b162-432d-9c25-1605e46f0882",
   "metadata": {},
   "source": [
    "# Word Norms and Natural Language Processing"
   ]
  },
  {
   "cell_type": "code",
   "execution_count": null,
   "id": "7e7789f0",
   "metadata": {},
   "outputs": [],
   "source": [
    "import pandas as pd\n",
    "import seaborn as sns\n",
    "sns.set()\n",
    "#!pip install plotly\n",
    "import plotly.express as px\n",
    "#!pip install jupyterlab \"ipywidgets>=7.5\"\n",
    "import matplotlib.pyplot as plt\n",
    "from nltk.corpus import wordnet as wn\n",
    "from nltk.stem.wordnet import WordNetLemmatizer\n",
    "lemmatizer = WordNetLemmatizer()\n",
    "from nltk.tokenize import word_tokenize\n",
    "from sklearn.preprocessing import MinMaxScaler"
   ]
  },
  {
   "cell_type": "markdown",
   "id": "7ad560af-89bc-43b4-ad6b-c7c86d363719",
   "metadata": {},
   "source": [
    "## Wittgenstein's beetle\n",
    "\n",
    ">Suppose everyone had a box with something in it: we call it a “beetle”. No one can look into anyone else’s box, and everyone says he knows what a beetle is only by looking at his beetle- Here it would be quite possible for everyone to have something different in his box. One might even imagine such a thing constantly changing- But suppose the word “beetle” had a use in these people’s language? If so it would not be used as the name of a thing. The thing in the box has no place in the language game at all, not even as a something: for the box might even be empty. ––No, one can 'divide through' by the thing in the box; it cancels out, whatever it is.\n",
    "\n",
    "––<cite>Ludwig Wittgenstein, <i>Philosophical Investigations</i> §293)</cite>"
   ]
  },
  {
   "cell_type": "markdown",
   "id": "00a73832-c806-4635-a2de-8d06291ec115",
   "metadata": {},
   "source": [
    "## What is a word norm?\n",
    "\n",
    "A word norm capatures the average impact of of a word across a linguistic community. That is, it is a public record of the function, behaviour or reception of a word by its users. A word norm is public: individuals may vary in their reception of word, but these variations should cancel out unless they're the product of systematic word features. If the the latter, then they should form part of the word norm data. Word norms have been collected for the following features:\n",
    "\n",
    "* Affective (i.e. emotional) impact [(Bradley & Lang 1999)](https://pdodds.w3.uvm.edu/teaching/courses/2009-08UVM-300/docs/others/everything/bradley1999a.pdf), [(Warriner at al. 2013)](https://pubmed.ncbi.nlm.nih.gov/23404613/)\n",
    "* Concreteness [(Brysbaert et al. 2013)](https://link.springer.com/article/10.3758/s13428-013-0403-5)\n",
    "* Sensorimotor embodiment [(Lynott et al. 2019)](https://pubmed.ncbi.nlm.nih.gov/31832879/)\n",
    "* Frequency [(Shapiro and Gordon 1971)](https://www.sciencedirect.com/science/article/abs/pii/S0022537171800993)\n",
    "* Imageability (easy of visualisation) [(Scott et al. 2019)](https://link.springer.com/article/10.3758/s13428-018-1099-3)\n",
    "* Semantic size (how 'important' a word is felt to be) [(Scott et al. 2019)](https://link.springer.com/article/10.3758/s13428-018-1099-3)\n",
    "* Agency (extent to which a word is associated with purpose) (Carney and Robertson, unpublished)\n",
    "\n",
    "### Word Norms for two common words\n",
    "\n",
    "<img src=\"two_words.png\" width=\"800\" height=\"400\">\n",
    "\n",
    "\n",
    "\n",
    "  "
   ]
  },
  {
   "cell_type": "markdown",
   "id": "95a39e94",
   "metadata": {},
   "source": [
    "## Our word norms\n",
    "\n",
    "We will look at two sets of word norms today:\n",
    "* The valenence-arousal-dominance (VAD) word norms in Warriner et al. (2013)\n",
    "* The sensorimotor word norms piblished in Lynott et al. (2019)"
   ]
  },
  {
   "cell_type": "code",
   "execution_count": null,
   "id": "10a22fb6",
   "metadata": {},
   "outputs": [],
   "source": [
    "vad = pd.read_excel('vad.xlsx', index_col = 0)  #VAD norms\n",
    "sm = pd.read_excel('sensorimotor.xlsx', index_col = 0) #Sensorimotor norms\n",
    "sm = sm[['auditory', 'gustatory', 'haptic', 'interoceptive', 'olfactory',\n",
    "       'visual', 'foot_leg', 'hand_arm', 'head', 'mouth', 'torso']]\n",
    "\n",
    "scaler = MinMaxScaler()\n",
    "scaled_data = scaler.fit_transform(sm)\n",
    "\n",
    "# Convert the scaled data back to a DataFrame\n",
    "scaled_df = pd.DataFrame(scaled_data, columns=sm.columns)\n",
    "scaled_df.index = sm.index\n",
    "\n",
    "all_norms = vad.merge(scaled_df, left_index=True, right_index=True)"
   ]
  },
  {
   "cell_type": "markdown",
   "id": "93f98556-2f46-4b00-8027-373978e323d2",
   "metadata": {},
   "source": [
    "## The VAD model"
   ]
  },
  {
   "cell_type": "markdown",
   "id": "c8826f73-6873-42cd-a733-43f66807128e",
   "metadata": {},
   "source": [
    "### [VAD plots for English and Spanish](https://texturejc.github.io/VAD_VAG_plots/VAD_plot.html)\n"
   ]
  },
  {
   "cell_type": "code",
   "execution_count": null,
   "id": "3ec0e1c6",
   "metadata": {
    "scrolled": true
   },
   "outputs": [],
   "source": [
    "\n",
    "\n",
    "vad_s = vad.sample(500)\n",
    "\n",
    "fig = px.scatter_3d(vad_s, x='valence', y='arousal', z='dominance', hover_data = [vad_s.index])\n",
    "fig.update_traces(marker=dict(size=2,\n",
    "                              line=dict(width=2,\n",
    "                                        color='DarkSlateGrey')),\n",
    "                  selector=dict(mode='markers'))\n",
    "\n",
    "\n",
    "\n",
    "fig.show()\n",
    "\n"
   ]
  },
  {
   "cell_type": "code",
   "execution_count": null,
   "id": "cd994a9a",
   "metadata": {},
   "outputs": [],
   "source": [
    "text = \"Spiders, crime, and earthquakes haunt my nightmares\"\n",
    "tokens = word_tokenize(text)\n",
    "lemmas = [lemmatizer.lemmatize(i.lower()) for i in tokens]\n",
    "\n",
    "words = []\n",
    "emo = []\n",
    "\n",
    "for i in lemmas:\n",
    "    if i in vad.index:\n",
    "        emo.append(vad.loc[i])\n",
    "        words.append(i)\n",
    "    else:\n",
    "        pass"
   ]
  },
  {
   "cell_type": "code",
   "execution_count": null,
   "id": "b560f8ad",
   "metadata": {},
   "outputs": [],
   "source": [
    "emo_df = pd.DataFrame(emo, index = words)\n",
    "emo_df"
   ]
  },
  {
   "cell_type": "code",
   "execution_count": null,
   "id": "e0bc07c9-2048-4df5-a3d0-d757fe256700",
   "metadata": {},
   "outputs": [],
   "source": [
    "word = 'spider'\n",
    "\n",
    "\n",
    "if word.lower() in vad.index:\n",
    "    lex = vad.loc[word.lower()]\n",
    "    \n",
    "    # Create a DataFrame from the series\n",
    "    df = pd.DataFrame({'label': lex.index, 'value': lex.values})\n",
    "    \n",
    "    # Manually add the first row to the end to close the loop\n",
    "    first_row = df.iloc[0].copy()\n",
    "    df = pd.concat([df, pd.DataFrame([first_row])], ignore_index=True)\n",
    "    \n",
    "    # Create the polar plot\n",
    "    fig = px.line_polar(df, r='value', theta='label', line_close=True)\n",
    "    fig.update_traces(fill='toself')\n",
    "    fig.update_layout(title= \"VAD norms for \"+word.upper())\n",
    "    fig.show()\n",
    "else:\n",
    "    print(\"Try another word\")"
   ]
  },
  {
   "cell_type": "markdown",
   "id": "2b32c748-ebb8-4887-be4c-2a7e5e0da7be",
   "metadata": {},
   "source": [
    "## The sensorimotor norms"
   ]
  },
  {
   "cell_type": "code",
   "execution_count": null,
   "id": "6e8d4ea5-28dc-479d-ae8e-2d841ca4545e",
   "metadata": {},
   "outputs": [],
   "source": [
    "text = \"Apples on vacation reduce cell oxidization and improve spirituality\"\n",
    "tokens = word_tokenize(text)\n",
    "lemmas = [lemmatizer.lemmatize(i.lower()) for i in tokens]\n",
    "\n",
    "words = []\n",
    "sm_ = []\n",
    "\n",
    "for i in lemmas:\n",
    "    if i in sm.index:\n",
    "        sm_.append(sm.loc[i])\n",
    "        words.append(i)\n",
    "    else:\n",
    "        pass\n",
    "\n",
    "sm_df = pd.DataFrame(sm_, index = words)\n",
    "sm_df"
   ]
  },
  {
   "cell_type": "code",
   "execution_count": null,
   "id": "17055bc1",
   "metadata": {},
   "outputs": [],
   "source": [
    "word = 'chemical'\n",
    "\n",
    "\n",
    "if word.lower() in sm.index:\n",
    "    lex = sm.loc[word.lower()]\n",
    "    \n",
    "    # Create a DataFrame from the series\n",
    "    df = pd.DataFrame({'label': lex.index, 'value': lex.values})\n",
    "    \n",
    "    # Manually add the first row to the end to close the loop\n",
    "    first_row = df.iloc[0].copy()\n",
    "    df = pd.concat([df, pd.DataFrame([first_row])], ignore_index=True)\n",
    "    \n",
    "    # Create the polar plot\n",
    "    fig = px.line_polar(df, r='value', theta='label', line_close=True)\n",
    "    fig.update_traces(fill='toself')\n",
    "    fig.update_layout(title= \"Sensorimotor norms for \"+word.upper())\n",
    "    fig.show()\n",
    "else:\n",
    "    print(\"Try another word\")"
   ]
  },
  {
   "cell_type": "markdown",
   "id": "d749cba2-6ce2-40de-a76c-0f1e0e7ae14a",
   "metadata": {},
   "source": [
    "## Combining VAD and sensorimotor norms"
   ]
  },
  {
   "cell_type": "code",
   "execution_count": null,
   "id": "ebc4c536-b23a-4934-9a17-b4401d90e7c1",
   "metadata": {},
   "outputs": [],
   "source": [
    "from IPython.display import display, HTML\n",
    "display(HTML(\"<style>.container { height:150% !important; }</style>\"))\n",
    "\n",
    "all_ = all_norms.sample(100)\n",
    "\n",
    "fig = px.scatter_3d(all_, x='valence', y='gustatory', z='visual', hover_data = [all_.index])\n",
    "fig.update_traces(marker=dict(size=5,\n",
    "                              line=dict(width=2,\n",
    "                                        color='DarkSlateGrey')),\n",
    "                  selector=dict(mode='markers'))\n",
    "\n",
    "\n",
    "\n",
    "fig.show()"
   ]
  },
  {
   "cell_type": "code",
   "execution_count": null,
   "id": "b2e5f3de-dbdf-42a6-af74-5c92ba52b842",
   "metadata": {},
   "outputs": [],
   "source": [
    "sns.regplot(x = 'gustatory', y = 'valence', scatter = False, data = all_norms)"
   ]
  },
  {
   "cell_type": "markdown",
   "id": "eb6cc6c2",
   "metadata": {},
   "source": [
    "## [Olfaction, valence, and arousal](https://texturejc.github.io/olfaction/Olfactory_valence.html)"
   ]
  },
  {
   "cell_type": "markdown",
   "id": "dfe605d1",
   "metadata": {},
   "source": [
    "## Five years of UK news headline data\n",
    "\n",
    "[Data source: Kaggle.com](https://www.kaggle.com/datasets/lazuri22/over-5-years-of-uk-news-headlines)"
   ]
  },
  {
   "cell_type": "code",
   "execution_count": null,
   "id": "1e7099e3",
   "metadata": {},
   "outputs": [],
   "source": [
    "\n",
    "news = pd.read_pickle('small_news_data.pkl')\n",
    "news_day = pd.read_pickle('processed_news_grouped_by_day.pkl')"
   ]
  },
  {
   "cell_type": "code",
   "execution_count": null,
   "id": "6001b84f",
   "metadata": {},
   "outputs": [],
   "source": [
    "\n",
    "\n",
    "news['source'] = news['source'].replace(['inews',\n",
    " 'daily_mail',\n",
    " 'express',\n",
    " 'guardian',\n",
    " 'evening_standard',\n",
    " 'independent'], ['iNews',\n",
    "  'Daily Mail',\n",
    "  'Express',\n",
    "  'Guardian',\n",
    "  'Evening Standard',\n",
    "  'Independent'])\n",
    "\n",
    "news_day['source'] = news_day['source'].replace(['inews',\n",
    " 'daily_mail',\n",
    " 'express',\n",
    " 'guardian',\n",
    " 'evening_standard',\n",
    " 'independent'], ['iNews',\n",
    "  'Daily Mail',\n",
    "  'Express',\n",
    "  'Guardian',\n",
    "  'Evening Standard',\n",
    "  'Independent'])\n"
   ]
  },
  {
   "cell_type": "markdown",
   "id": "76b71379-816a-4068-9cad-ba4bc757cc80",
   "metadata": {},
   "source": [
    "# How does the presence of a single word in a headline impact on the emotional tone of that headline?"
   ]
  },
  {
   "cell_type": "code",
   "execution_count": null,
   "id": "d25354b5",
   "metadata": {},
   "outputs": [],
   "source": [
    "word = 'Brexit'\n",
    "\n",
    "headlines = []\n",
    "\n",
    "for i in news['headline']:\n",
    "    if word.lower() in i.lower():\n",
    "        headlines.append('yes')\n",
    "    else:\n",
    "        headlines.append('no')\n",
    "        \n",
    "news[word] = headlines\n",
    "\n",
    "news_ = news[news[word] == 'yes']\n",
    "\n",
    "sns.pointplot(x = 'source', y ='valence', join = False, data = news_)\n",
    "plt.xticks(rotation = 45)\n"
   ]
  },
  {
   "cell_type": "code",
   "execution_count": null,
   "id": "706af898-0d94-400e-9d8a-5f0cd8bb0e7a",
   "metadata": {},
   "outputs": [],
   "source": [
    "\n"
   ]
  },
  {
   "cell_type": "code",
   "execution_count": null,
   "id": "e28063e4-96c3-4e00-a0fb-7d3584dd4644",
   "metadata": {},
   "outputs": [],
   "source": []
  },
  {
   "cell_type": "code",
   "execution_count": null,
   "id": "b12366e3-65ce-4112-bb0e-ecd03053fef8",
   "metadata": {},
   "outputs": [],
   "source": []
  }
 ],
 "metadata": {
  "kernelspec": {
   "display_name": "Python 3 (ipykernel)",
   "language": "python",
   "name": "python3"
  },
  "language_info": {
   "codemirror_mode": {
    "name": "ipython",
    "version": 3
   },
   "file_extension": ".py",
   "mimetype": "text/x-python",
   "name": "python",
   "nbconvert_exporter": "python",
   "pygments_lexer": "ipython3",
   "version": "3.9.18"
  }
 },
 "nbformat": 4,
 "nbformat_minor": 5
}
